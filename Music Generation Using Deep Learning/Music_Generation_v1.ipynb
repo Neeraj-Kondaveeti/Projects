{
  "cells": [
    {
      "cell_type": "code",
      "execution_count": 1,
      "metadata": {
        "id": "VXMUmJ1YRrxc"
      },
      "outputs": [],
      "source": [
        "from music21 import *"
      ]
    },
    {
      "cell_type": "code",
      "execution_count": 2,
      "metadata": {
        "id": "4ZOBGSjoRr0g"
      },
      "outputs": [],
      "source": [
        "#read MIDI files return notes\n",
        "def read_midi(file):\n",
        "    # initialize     \n",
        "    notes=[]\n",
        "    notes_to_parse = None\n",
        "    \n",
        "    #parsing a midi file - converting to music21 objects(Scores)\n",
        "    midi = converter.parse(file)\n",
        "  \n",
        "    #separate as instruments\n",
        "    s2 = instrument.partitionByInstrument(midi)\n",
        "\n",
        "    #Looping over all the instruments\n",
        "    for part in s2.parts:\n",
        "        #Piano and Guitar elements\n",
        "        if ('Piano' in str(part) or ('Guitar' in str(part))): \n",
        "            notes_to_parse = part.recurse() \n",
        "      \n",
        "            #note or chord\n",
        "            for element in notes_to_parse:\n",
        "                \n",
        "                #handling a note\n",
        "                if isinstance(element, note.Note):\n",
        "                    notes.append(str(element.pitch))\n",
        "                \n",
        "                #handling a chord\n",
        "                elif isinstance(element, chord.Chord):\n",
        "                    notes.append('.'.join(str(n) for n in element.normalOrder))\n",
        "\n",
        "    return np.array(notes)"
      ]
    },
    {
      "cell_type": "code",
      "execution_count": 3,
      "metadata": {
        "id": "AMsGL6CLRr3F"
      },
      "outputs": [],
      "source": [
        "import numpy as np\n",
        "import os"
      ]
    },
    {
      "cell_type": "code",
      "execution_count": 9,
      "metadata": {
        "id": "sHLQIooKRr8j"
      },
      "outputs": [],
      "source": [
        "path = '/content/midi/'"
      ]
    },
    {
      "cell_type": "code",
      "execution_count": 10,
      "metadata": {
        "id": "2KpIRnj6Rr_H"
      },
      "outputs": [],
      "source": [
        "#read all the filenames\n",
        "files=[i for i in os.listdir(path) if i.endswith(\".mid\")]"
      ]
    },
    {
      "cell_type": "code",
      "execution_count": 11,
      "metadata": {
        "colab": {
          "base_uri": "https://localhost:8080/"
        },
        "id": "8pN7OaSIRsBy",
        "outputId": "ac24bcd0-bf49-470e-8966-1982687c99ff"
      },
      "outputs": [
        {
          "name": "stderr",
          "output_type": "stream",
          "text": [
            "<ipython-input-11-371224d13292>:2: VisibleDeprecationWarning: Creating an ndarray from ragged nested sequences (which is a list-or-tuple of lists-or-tuples-or ndarrays with different lengths or shapes) is deprecated. If you meant to do this, you must specify 'dtype=object' when creating the ndarray.\n",
            "  notes_array = np.array([read_midi(path+i) for i in files])\n"
          ]
        }
      ],
      "source": [
        "#reading each midi file\n",
        "notes_array = np.array([read_midi(path+i) for i in files])"
      ]
    },
    {
      "cell_type": "code",
      "execution_count": 12,
      "metadata": {
        "colab": {
          "base_uri": "https://localhost:8080/"
        },
        "id": "rj74B58KWnjC",
        "outputId": "545401f6-8eb5-4429-8e3f-864d06db25f9"
      },
      "outputs": [
        {
          "name": "stdout",
          "output_type": "stream",
          "text": [
            "344\n"
          ]
        }
      ],
      "source": [
        "#converting 2D array into 1D array\n",
        "notes_ = [element for note_ in notes_array for element in note_]\n",
        "\n",
        "#No. of unique notes\n",
        "unique_notes = list(set(notes_))\n",
        "print(len(unique_notes))"
      ]
    },
    {
      "cell_type": "code",
      "execution_count": 14,
      "metadata": {
        "id": "fN0-BQA5Wnqz"
      },
      "outputs": [],
      "source": [
        "from collections import Counter\n",
        "import matplotlib.pyplot as plt"
      ]
    },
    {
      "cell_type": "code",
      "execution_count": 15,
      "metadata": {
        "colab": {
          "base_uri": "https://localhost:8080/",
          "height": 333
        },
        "id": "ygpdHZipXBVs",
        "outputId": "26733ba7-631a-42ff-8e2b-c17607281fb4"
      },
      "outputs": [
        {
          "data": {
            "image/png": "[encoded data removed]",
            "text/plain": [
              "<Figure size 360x360 with 1 Axes>"
            ]
          },
          "metadata": {
            "image/png": {
              "height": 316,
              "width": 334
            },
            "needs_background": "light"
          },
          "output_type": "display_data"
        }
      ],
      "source": [
        "freq = dict(Counter(notes_))\n",
        "no=[count for _,count in freq.items()]\n",
        "\n",
        "#set the figure size\n",
        "plt.figure(figsize=(5,5))\n",
        "plt.hist(no)\n",
        "plt.xlabel('Notes')\n",
        "plt.ylabel('Frequency')\n",
        "plt.show()"
      ]
    },
    {
      "cell_type": "code",
      "execution_count": 17,
      "metadata": {
        "colab": {
          "base_uri": "https://localhost:8080/"
        },
        "id": "WScE9qNrXBYZ",
        "outputId": "736d7131-bb90-4943-c26a-3b58cefcfbf5"
      },
      "outputs": [
        {
          "name": "stdout",
          "output_type": "stream",
          "text": [
            "135\n"
          ]
        }
      ],
      "source": [
        "frequent_notes = [note_ for note_, count in freq.items() if count>=40]\n",
        "print(len(frequent_notes))"
      ]
    },
    {
      "cell_type": "code",
      "execution_count": 18,
      "metadata": {
        "colab": {
          "base_uri": "https://localhost:8080/"
        },
        "id": "3BS19kJnXBbQ",
        "outputId": "8b595c9a-e88b-47d6-f2d1-b1ae3757d89b"
      },
      "outputs": [
        {
          "name": "stderr",
          "output_type": "stream",
          "text": [
            "<ipython-input-18-2fa7923ce1b3>:10: VisibleDeprecationWarning: Creating an ndarray from ragged nested sequences (which is a list-or-tuple of lists-or-tuples-or ndarrays with different lengths or shapes) is deprecated. If you meant to do this, you must specify 'dtype=object' when creating the ndarray.\n",
            "  new_music = np.array(new_music)\n"
          ]
        }
      ],
      "source": [
        "new_music=[]\n",
        "\n",
        "for notes in notes_array:\n",
        "    temp=[]\n",
        "    for note_ in notes:\n",
        "        if note_ in frequent_notes:\n",
        "            temp.append(note_)            \n",
        "    new_music.append(temp)\n",
        "    \n",
        "new_music = np.array(new_music)"
      ]
    },
    {
      "cell_type": "code",
      "execution_count": 19,
      "metadata": {
        "id": "OiSvySKRXBdm"
      },
      "outputs": [],
      "source": [
        "no_of_timesteps = 32\n",
        "x = []\n",
        "y = []\n",
        "\n",
        "for note_ in new_music:\n",
        "    for i in range(0, len(note_) - no_of_timesteps, 1):\n",
        "        \n",
        "        #preparing input and output sequences\n",
        "        input_ = note_[i:i + no_of_timesteps]\n",
        "        output = note_[i + no_of_timesteps]\n",
        "        \n",
        "        x.append(input_)\n",
        "        y.append(output)\n",
        "        \n",
        "x=np.array(x)\n",
        "y=np.array(y)"
      ]
    },
    {
      "cell_type": "code",
      "execution_count": 20,
      "metadata": {
        "id": "fypClWo7YBfo"
      },
      "outputs": [],
      "source": [
        "# converting notes to ints\n",
        "unique_x = list(set(x.ravel()))\n",
        "x_note_to_int = dict((note_, number) for number, note_ in enumerate(unique_x))"
      ]
    },
    {
      "cell_type": "code",
      "execution_count": 21,
      "metadata": {
        "id": "D1bGyuukYBh3"
      },
      "outputs": [],
      "source": [
        "#preparing input sequences\n",
        "x_seq=[]\n",
        "for i in x:\n",
        "    temp=[]\n",
        "    for j in i:\n",
        "        #assigning unique integer to every note\n",
        "        temp.append(x_note_to_int[j])\n",
        "    x_seq.append(temp)\n",
        "    \n",
        "x_seq = np.array(x_seq)"
      ]
    },
    {
      "cell_type": "code",
      "execution_count": 22,
      "metadata": {
        "id": "2gjqabYpYBkx"
      },
      "outputs": [],
      "source": [
        "unique_y = list(set(y))\n",
        "y_note_to_int = dict((note_, number) for number, note_ in enumerate(unique_y)) \n",
        "y_seq=np.array([y_note_to_int[i] for i in y])"
      ]
    },
    {
      "cell_type": "code",
      "execution_count": 23,
      "metadata": {
        "id": "9odvw4eWYT38"
      },
      "outputs": [],
      "source": [
        "from sklearn.model_selection import train_test_split\n",
        "x_tr, x_val, y_tr, y_val = train_test_split(x_seq,y_seq,test_size=0.2,random_state=42)"
      ]
    },
    {
      "cell_type": "code",
      "execution_count": 24,
      "metadata": {
        "id": "V85FAj_uYT6c"
      },
      "outputs": [],
      "source": [
        "import keras\n",
        "from keras.layers import *\n",
        "from keras.models import *\n",
        "from keras.callbacks import *\n",
        "import keras.backend as K"
      ]
    },
    {
      "cell_type": "code",
      "execution_count": 28,
      "metadata": {
        "id": "5tbDEdpmYT8y"
      },
      "outputs": [],
      "source": [
        "K.clear_session()\n",
        "model = Sequential()\n",
        "    \n",
        "#embedding layer\n",
        "model.add(Embedding(len(unique_x), 100, input_length=32,trainable=True)) \n",
        "\n",
        "model.add(Conv1D(256,3, padding='causal',activation='relu'))\n",
        "model.add(Dropout(0.2))\n",
        "model.add(MaxPool1D(2))\n",
        "    \n",
        "model.add(Conv1D(128,3,activation='relu',dilation_rate=2,padding='causal'))\n",
        "model.add(Dropout(0.2))\n",
        "model.add(MaxPool1D(2))\n",
        "\n",
        "model.add(Conv1D(64,3,activation='relu',dilation_rate=4,padding='causal'))\n",
        "model.add(Dropout(0.2))\n",
        "model.add(MaxPool1D(2))\n",
        "\n",
        "model.add(GlobalMaxPool1D())\n",
        "    \n",
        "model.add(Dense(256, activation='relu'))\n",
        "model.add(Dense(len(unique_y), activation='softmax'))"
      ]
    },
    {
      "cell_type": "code",
      "execution_count": 30,
      "metadata": {
        "id": "5pRdG5BTYBnV"
      },
      "outputs": [],
      "source": [
        "model.compile(loss='sparse_categorical_crossentropy', optimizer='adam')"
      ]
    },
    {
      "cell_type": "code",
      "execution_count": 31,
      "metadata": {
        "colab": {
          "base_uri": "https://localhost:8080/"
        },
        "id": "a7r0CRGNbq9q",
        "outputId": "93e490ab-0dca-49ff-fb63-4de3a82de9e9"
      },
      "outputs": [
        {
          "name": "stdout",
          "output_type": "stream",
          "text": [
            "Model: \"sequential\"\n",
            "_________________________________________________________________\n",
            " Layer (type)                Output Shape              Param #   \n",
            "=================================================================\n",
            " embedding (Embedding)       (None, 32, 100)           13500     \n",
            "                                                                 \n",
            " conv1d (Conv1D)             (None, 32, 256)           77056     \n",
            "                                                                 \n",
            " dropout (Dropout)           (None, 32, 256)           0         \n",
            "                                                                 \n",
            " max_pooling1d (MaxPooling1D  (None, 16, 256)          0         \n",
            " )                                                               \n",
            "                                                                 \n",
            " conv1d_1 (Conv1D)           (None, 16, 128)           98432     \n",
            "                                                                 \n",
            " dropout_1 (Dropout)         (None, 16, 128)           0         \n",
            "                                                                 \n",
            " max_pooling1d_1 (MaxPooling  (None, 8, 128)           0         \n",
            " 1D)                                                             \n",
            "                                                                 \n",
            " conv1d_2 (Conv1D)           (None, 8, 64)             24640     \n",
            "                                                                 \n",
            " dropout_2 (Dropout)         (None, 8, 64)             0         \n",
            "                                                                 \n",
            " max_pooling1d_2 (MaxPooling  (None, 4, 64)            0         \n",
            " 1D)                                                             \n",
            "                                                                 \n",
            " global_max_pooling1d (Globa  (None, 64)               0         \n",
            " lMaxPooling1D)                                                  \n",
            "                                                                 \n",
            " dense (Dense)               (None, 256)               16640     \n",
            "                                                                 \n",
            " dense_1 (Dense)             (None, 135)               34695     \n",
            "                                                                 \n",
            "=================================================================\n",
            "Total params: 264,963\n",
            "Trainable params: 264,963\n",
            "Non-trainable params: 0\n",
            "_________________________________________________________________\n"
          ]
        }
      ],
      "source": [
        "model.summary()"
      ]
    },
    {
      "cell_type": "code",
      "execution_count": 32,
      "metadata": {
        "id": "Rx4M5YeubrAi"
      },
      "outputs": [],
      "source": [
        "# Save best model after each epoch based on min val_loss \n",
        "mc=ModelCheckpoint('best_model.h5', monitor='val_loss', mode='min', save_best_only=True,verbose=1)"
      ]
    },
    {
      "cell_type": "code",
      "execution_count": 33,
      "metadata": {
        "colab": {
          "base_uri": "https://localhost:8080/"
        },
        "id": "JgxUTG1jb7AF",
        "outputId": "f94fb40a-7f35-4052-bae5-5ed7c8d31d40"
      },
      "outputs": [
        {
          "name": "stdout",
          "output_type": "stream",
          "text": [
            "Epoch 1/50\n",
            "247/247 [==============================] - ETA: 0s - loss: 4.2326\n",
            "Epoch 1: val_loss improved from inf to 3.91516, saving model to best_model.h5\n",
            "247/247 [==============================] - 12s 10ms/step - loss: 4.2326 - val_loss: 3.9152\n",
            "Epoch 2/50\n",
            "241/247 [============================>.] - ETA: 0s - loss: 3.5961\n",
            "Epoch 2: val_loss improved from 3.91516 to 3.59482, saving model to best_model.h5\n",
            "247/247 [==============================] - 2s 7ms/step - loss: 3.5930 - val_loss: 3.5948\n",
            "Epoch 3/50\n",
            "247/247 [==============================] - ETA: 0s - loss: 3.3612\n",
            "Epoch 3: val_loss improved from 3.59482 to 3.49627, saving model to best_model.h5\n",
            "247/247 [==============================] - 2s 7ms/step - loss: 3.3612 - val_loss: 3.4963\n",
            "Epoch 4/50\n",
            "241/247 [============================>.] - ETA: 0s - loss: 3.2283\n",
            "Epoch 4: val_loss improved from 3.49627 to 3.37950, saving model to best_model.h5\n",
            "247/247 [==============================] - 2s 7ms/step - loss: 3.2291 - val_loss: 3.3795\n",
            "Epoch 5/50\n",
            "242/247 [============================>.] - ETA: 0s - loss: 3.1358\n",
            "Epoch 5: val_loss improved from 3.37950 to 3.29722, saving model to best_model.h5\n",
            "247/247 [==============================] - 2s 8ms/step - loss: 3.1346 - val_loss: 3.2972\n",
            "Epoch 6/50\n",
            "243/247 [============================>.] - ETA: 0s - loss: 3.0506\n",
            "Epoch 6: val_loss improved from 3.29722 to 3.26924, saving model to best_model.h5\n",
            "247/247 [==============================] - 2s 8ms/step - loss: 3.0513 - val_loss: 3.2692\n",
            "Epoch 7/50\n",
            "244/247 [============================>.] - ETA: 0s - loss: 2.9787\n",
            "Epoch 7: val_loss improved from 3.26924 to 3.15419, saving model to best_model.h5\n",
            "247/247 [==============================] - 2s 9ms/step - loss: 2.9763 - val_loss: 3.1542\n",
            "Epoch 8/50\n",
            "246/247 [============================>.] - ETA: 0s - loss: 2.9103\n",
            "Epoch 8: val_loss improved from 3.15419 to 3.11798, saving model to best_model.h5\n",
            "247/247 [==============================] - 2s 8ms/step - loss: 2.9099 - val_loss: 3.1180\n",
            "Epoch 9/50\n",
            "246/247 [============================>.] - ETA: 0s - loss: 2.8535\n",
            "Epoch 9: val_loss improved from 3.11798 to 3.06958, saving model to best_model.h5\n",
            "247/247 [==============================] - 2s 8ms/step - loss: 2.8532 - val_loss: 3.0696\n",
            "Epoch 10/50\n",
            "242/247 [============================>.] - ETA: 0s - loss: 2.7896\n",
            "Epoch 10: val_loss improved from 3.06958 to 3.02063, saving model to best_model.h5\n",
            "247/247 [==============================] - 2s 7ms/step - loss: 2.7891 - val_loss: 3.0206\n",
            "Epoch 11/50\n",
            "245/247 [============================>.] - ETA: 0s - loss: 2.7430\n",
            "Epoch 11: val_loss improved from 3.02063 to 2.97898, saving model to best_model.h5\n",
            "247/247 [==============================] - 2s 8ms/step - loss: 2.7439 - val_loss: 2.9790\n",
            "Epoch 12/50\n",
            "246/247 [============================>.] - ETA: 0s - loss: 2.6914\n",
            "Epoch 12: val_loss improved from 2.97898 to 2.94396, saving model to best_model.h5\n",
            "247/247 [==============================] - 2s 8ms/step - loss: 2.6918 - val_loss: 2.9440\n",
            "Epoch 13/50\n",
            "241/247 [============================>.] - ETA: 0s - loss: 2.6460\n",
            "Epoch 13: val_loss improved from 2.94396 to 2.90996, saving model to best_model.h5\n",
            "247/247 [==============================] - 2s 9ms/step - loss: 2.6453 - val_loss: 2.9100\n",
            "Epoch 14/50\n",
            "242/247 [============================>.] - ETA: 0s - loss: 2.6050\n",
            "Epoch 14: val_loss improved from 2.90996 to 2.88744, saving model to best_model.h5\n",
            "247/247 [==============================] - 2s 7ms/step - loss: 2.6047 - val_loss: 2.8874\n",
            "Epoch 15/50\n",
            "240/247 [============================>.] - ETA: 0s - loss: 2.5657\n",
            "Epoch 15: val_loss improved from 2.88744 to 2.86235, saving model to best_model.h5\n",
            "247/247 [==============================] - 2s 8ms/step - loss: 2.5685 - val_loss: 2.8624\n",
            "Epoch 16/50\n",
            "245/247 [============================>.] - ETA: 0s - loss: 2.5193\n",
            "Epoch 16: val_loss improved from 2.86235 to 2.82579, saving model to best_model.h5\n",
            "247/247 [==============================] - 2s 8ms/step - loss: 2.5202 - val_loss: 2.8258\n",
            "Epoch 17/50\n",
            "244/247 [============================>.] - ETA: 0s - loss: 2.4838\n",
            "Epoch 17: val_loss improved from 2.82579 to 2.79775, saving model to best_model.h5\n",
            "247/247 [==============================] - 2s 8ms/step - loss: 2.4840 - val_loss: 2.7977\n",
            "Epoch 18/50\n",
            "246/247 [============================>.] - ETA: 0s - loss: 2.4515\n",
            "Epoch 18: val_loss improved from 2.79775 to 2.77312, saving model to best_model.h5\n",
            "247/247 [==============================] - 2s 8ms/step - loss: 2.4515 - val_loss: 2.7731\n",
            "Epoch 19/50\n",
            "244/247 [============================>.] - ETA: 0s - loss: 2.4107\n",
            "Epoch 19: val_loss improved from 2.77312 to 2.74342, saving model to best_model.h5\n",
            "247/247 [==============================] - 2s 10ms/step - loss: 2.4110 - val_loss: 2.7434\n",
            "Epoch 20/50\n",
            "245/247 [============================>.] - ETA: 0s - loss: 2.3918\n",
            "Epoch 20: val_loss improved from 2.74342 to 2.71603, saving model to best_model.h5\n",
            "247/247 [==============================] - 2s 8ms/step - loss: 2.3916 - val_loss: 2.7160\n",
            "Epoch 21/50\n",
            "246/247 [============================>.] - ETA: 0s - loss: 2.3626\n",
            "Epoch 21: val_loss improved from 2.71603 to 2.71490, saving model to best_model.h5\n",
            "247/247 [==============================] - 2s 8ms/step - loss: 2.3630 - val_loss: 2.7149\n",
            "Epoch 22/50\n",
            "244/247 [============================>.] - ETA: 0s - loss: 2.3314\n",
            "Epoch 22: val_loss improved from 2.71490 to 2.68889, saving model to best_model.h5\n",
            "247/247 [==============================] - 2s 8ms/step - loss: 2.3315 - val_loss: 2.6889\n",
            "Epoch 23/50\n",
            "247/247 [==============================] - ETA: 0s - loss: 2.3052\n",
            "Epoch 23: val_loss improved from 2.68889 to 2.67418, saving model to best_model.h5\n",
            "247/247 [==============================] - 2s 8ms/step - loss: 2.3052 - val_loss: 2.6742\n",
            "Epoch 24/50\n",
            "246/247 [============================>.] - ETA: 0s - loss: 2.2920\n",
            "Epoch 24: val_loss improved from 2.67418 to 2.67241, saving model to best_model.h5\n",
            "247/247 [==============================] - 2s 8ms/step - loss: 2.2922 - val_loss: 2.6724\n",
            "Epoch 25/50\n",
            "246/247 [============================>.] - ETA: 0s - loss: 2.2759\n",
            "Epoch 25: val_loss improved from 2.67241 to 2.63934, saving model to best_model.h5\n",
            "247/247 [==============================] - 3s 10ms/step - loss: 2.2758 - val_loss: 2.6393\n",
            "Epoch 26/50\n",
            "244/247 [============================>.] - ETA: 0s - loss: 2.2421\n",
            "Epoch 26: val_loss improved from 2.63934 to 2.62734, saving model to best_model.h5\n",
            "247/247 [==============================] - 2s 8ms/step - loss: 2.2421 - val_loss: 2.6273\n",
            "Epoch 27/50\n",
            "245/247 [============================>.] - ETA: 0s - loss: 2.2156\n",
            "Epoch 27: val_loss improved from 2.62734 to 2.60924, saving model to best_model.h5\n",
            "247/247 [==============================] - 2s 8ms/step - loss: 2.2162 - val_loss: 2.6092\n",
            "Epoch 28/50\n",
            "244/247 [============================>.] - ETA: 0s - loss: 2.2033\n",
            "Epoch 28: val_loss did not improve from 2.60924\n",
            "247/247 [==============================] - 2s 7ms/step - loss: 2.2021 - val_loss: 2.6125\n",
            "Epoch 29/50\n",
            "246/247 [============================>.] - ETA: 0s - loss: 2.1860\n",
            "Epoch 29: val_loss improved from 2.60924 to 2.60820, saving model to best_model.h5\n",
            "247/247 [==============================] - 2s 8ms/step - loss: 2.1858 - val_loss: 2.6082\n",
            "Epoch 30/50\n",
            "246/247 [============================>.] - ETA: 0s - loss: 2.1666\n",
            "Epoch 30: val_loss improved from 2.60820 to 2.59095, saving model to best_model.h5\n",
            "247/247 [==============================] - 2s 8ms/step - loss: 2.1666 - val_loss: 2.5909\n",
            "Epoch 31/50\n",
            "243/247 [============================>.] - ETA: 0s - loss: 2.1448\n",
            "Epoch 31: val_loss improved from 2.59095 to 2.56321, saving model to best_model.h5\n",
            "247/247 [==============================] - 2s 10ms/step - loss: 2.1451 - val_loss: 2.5632\n",
            "Epoch 32/50\n",
            "247/247 [==============================] - ETA: 0s - loss: 2.1387\n",
            "Epoch 32: val_loss did not improve from 2.56321\n",
            "247/247 [==============================] - 2s 8ms/step - loss: 2.1387 - val_loss: 2.5691\n",
            "Epoch 33/50\n",
            "245/247 [============================>.] - ETA: 0s - loss: 2.1082\n",
            "Epoch 33: val_loss improved from 2.56321 to 2.54966, saving model to best_model.h5\n",
            "247/247 [==============================] - 2s 8ms/step - loss: 2.1089 - val_loss: 2.5497\n",
            "Epoch 34/50\n",
            "246/247 [============================>.] - ETA: 0s - loss: 2.1065\n",
            "Epoch 34: val_loss improved from 2.54966 to 2.54121, saving model to best_model.h5\n",
            "247/247 [==============================] - 2s 8ms/step - loss: 2.1067 - val_loss: 2.5412\n",
            "Epoch 35/50\n",
            "243/247 [============================>.] - ETA: 0s - loss: 2.0843\n",
            "Epoch 35: val_loss did not improve from 2.54121\n",
            "247/247 [==============================] - 2s 8ms/step - loss: 2.0846 - val_loss: 2.5418\n",
            "Epoch 36/50\n",
            "245/247 [============================>.] - ETA: 0s - loss: 2.0721\n",
            "Epoch 36: val_loss improved from 2.54121 to 2.52823, saving model to best_model.h5\n",
            "247/247 [==============================] - 2s 8ms/step - loss: 2.0721 - val_loss: 2.5282\n",
            "Epoch 37/50\n",
            "246/247 [============================>.] - ETA: 0s - loss: 2.0570\n",
            "Epoch 37: val_loss improved from 2.52823 to 2.50111, saving model to best_model.h5\n",
            "247/247 [==============================] - 3s 12ms/step - loss: 2.0569 - val_loss: 2.5011\n",
            "Epoch 38/50\n",
            "244/247 [============================>.] - ETA: 0s - loss: 2.0414\n",
            "Epoch 38: val_loss improved from 2.50111 to 2.49464, saving model to best_model.h5\n",
            "247/247 [==============================] - 2s 9ms/step - loss: 2.0415 - val_loss: 2.4946\n",
            "Epoch 39/50\n",
            "243/247 [============================>.] - ETA: 0s - loss: 2.0258\n",
            "Epoch 39: val_loss improved from 2.49464 to 2.48276, saving model to best_model.h5\n",
            "247/247 [==============================] - 2s 8ms/step - loss: 2.0258 - val_loss: 2.4828\n",
            "Epoch 40/50\n",
            "245/247 [============================>.] - ETA: 0s - loss: 2.0189\n",
            "Epoch 40: val_loss did not improve from 2.48276\n",
            "247/247 [==============================] - 2s 8ms/step - loss: 2.0195 - val_loss: 2.4924\n",
            "Epoch 41/50\n",
            "244/247 [============================>.] - ETA: 0s - loss: 2.0057\n",
            "Epoch 41: val_loss did not improve from 2.48276\n",
            "247/247 [==============================] - 2s 7ms/step - loss: 2.0064 - val_loss: 2.4939\n",
            "Epoch 42/50\n",
            "245/247 [============================>.] - ETA: 0s - loss: 2.0001\n",
            "Epoch 42: val_loss improved from 2.48276 to 2.46540, saving model to best_model.h5\n",
            "247/247 [==============================] - 3s 13ms/step - loss: 1.9999 - val_loss: 2.4654\n",
            "Epoch 43/50\n",
            "240/247 [============================>.] - ETA: 0s - loss: 1.9907\n",
            "Epoch 43: val_loss did not improve from 2.46540\n",
            "247/247 [==============================] - 2s 9ms/step - loss: 1.9912 - val_loss: 2.4726\n",
            "Epoch 44/50\n",
            "241/247 [============================>.] - ETA: 0s - loss: 1.9678\n",
            "Epoch 44: val_loss improved from 2.46540 to 2.46166, saving model to best_model.h5\n",
            "247/247 [==============================] - 2s 8ms/step - loss: 1.9700 - val_loss: 2.4617\n",
            "Epoch 45/50\n",
            "240/247 [============================>.] - ETA: 0s - loss: 1.9681\n",
            "Epoch 45: val_loss improved from 2.46166 to 2.44954, saving model to best_model.h5\n",
            "247/247 [==============================] - 2s 8ms/step - loss: 1.9689 - val_loss: 2.4495\n",
            "Epoch 46/50\n",
            "240/247 [============================>.] - ETA: 0s - loss: 1.9607\n",
            "Epoch 46: val_loss improved from 2.44954 to 2.44665, saving model to best_model.h5\n",
            "247/247 [==============================] - 2s 7ms/step - loss: 1.9618 - val_loss: 2.4466\n",
            "Epoch 47/50\n",
            "245/247 [============================>.] - ETA: 0s - loss: 1.9456\n",
            "Epoch 47: val_loss improved from 2.44665 to 2.44068, saving model to best_model.h5\n",
            "247/247 [==============================] - 2s 8ms/step - loss: 1.9463 - val_loss: 2.4407\n",
            "Epoch 48/50\n",
            "245/247 [============================>.] - ETA: 0s - loss: 1.9332\n",
            "Epoch 48: val_loss improved from 2.44068 to 2.43774, saving model to best_model.h5\n",
            "247/247 [==============================] - 2s 9ms/step - loss: 1.9338 - val_loss: 2.4377\n",
            "Epoch 49/50\n",
            "246/247 [============================>.] - ETA: 0s - loss: 1.9336\n",
            "Epoch 49: val_loss improved from 2.43774 to 2.42701, saving model to best_model.h5\n",
            "247/247 [==============================] - 3s 10ms/step - loss: 1.9341 - val_loss: 2.4270\n",
            "Epoch 50/50\n",
            "240/247 [============================>.] - ETA: 0s - loss: 1.9191\n",
            "Epoch 50: val_loss did not improve from 2.42701\n",
            "247/247 [==============================] - 2s 9ms/step - loss: 1.9218 - val_loss: 2.4283\n"
          ]
        }
      ],
      "source": [
        "history = model.fit(np.array(x_tr),np.array(y_tr),batch_size=128,epochs=50, validation_data=(np.array(x_val),np.array(y_val)),verbose=1, callbacks=[mc])"
      ]
    },
    {
      "cell_type": "code",
      "execution_count": 34,
      "metadata": {
        "id": "AF4lXU36b7Ca"
      },
      "outputs": [],
      "source": [
        "#loading best model\n",
        "from keras.models import load_model\n",
        "model = load_model('best_model.h5')"
      ]
    },
    {
      "cell_type": "code",
      "execution_count": 38,
      "metadata": {
        "colab": {
          "base_uri": "https://localhost:8080/",
          "height": 311
        },
        "id": "VB1UJrSKb7E-",
        "outputId": "9bc0ac8b-ad57-4c8d-d602-4b4fbf9df23b"
      },
      "outputs": [
        {
          "name": "stdout",
          "output_type": "stream",
          "text": [
            "dict_keys(['loss', 'val_loss'])\n"
          ]
        },
        {
          "data": {
            "image/png": "[encoded data removed]",
            "text/plain": [
              "<Figure size 432x288 with 1 Axes>"
            ]
          },
          "metadata": {
            "image/png": {
              "height": 277,
              "width": 385
            },
            "needs_background": "light"
          },
          "output_type": "display_data"
        }
      ],
      "source": [
        "# plots\n",
        "print(history.history.keys())\n",
        "# loss\n",
        "plt.plot(history.history['loss'])\n",
        "plt.plot(history.history['val_loss'])\n",
        "plt.title('model loss')\n",
        "plt.ylabel('loss')\n",
        "plt.xlabel('epoch')\n",
        "plt.legend(['train', 'validation'], loc='upper left')\n",
        "plt.show()"
      ]
    },
    {
      "cell_type": "code",
      "execution_count": 39,
      "metadata": {
        "colab": {
          "base_uri": "https://localhost:8080/"
        },
        "id": "ibCeap8pb7Hl",
        "outputId": "181ebf37-12d9-4979-fa82-e6a3e61b17de"
      },
      "outputs": [
        {
          "name": "stdout",
          "output_type": "stream",
          "text": [
            "1/1 [==============================] - 0s 419ms/step\n",
            "1/1 [==============================] - 0s 16ms/step\n",
            "1/1 [==============================] - 0s 15ms/step\n",
            "1/1 [==============================] - 0s 15ms/step\n",
            "1/1 [==============================] - 0s 14ms/step\n",
            "1/1 [==============================] - 0s 16ms/step\n",
            "1/1 [==============================] - 0s 16ms/step\n",
            "1/1 [==============================] - 0s 18ms/step\n",
            "1/1 [==============================] - 0s 17ms/step\n",
            "1/1 [==============================] - 0s 17ms/step\n",
            "1/1 [==============================] - 0s 17ms/step\n",
            "1/1 [==============================] - 0s 16ms/step\n",
            "1/1 [==============================] - 0s 17ms/step\n",
            "1/1 [==============================] - 0s 17ms/step\n",
            "1/1 [==============================] - 0s 15ms/step\n",
            "1/1 [==============================] - 0s 21ms/step\n",
            "1/1 [==============================] - 0s 18ms/step\n",
            "1/1 [==============================] - 0s 19ms/step\n",
            "1/1 [==============================] - 0s 19ms/step\n",
            "1/1 [==============================] - 0s 16ms/step\n",
            "[10, 14, 10, 126, 10, 126, 90, 14, 14, 19, 19, 58, 24, 58, 24, 58, 24, 58, 126, 126]\n"
          ]
        }
      ],
      "source": [
        "import random\n",
        "ind = np.random.randint(0,len(x_val)-1)\n",
        "\n",
        "random_music = x_val[ind]\n",
        "\n",
        "predictions=[]\n",
        "for i in range(20):\n",
        "\n",
        "    random_music = random_music.reshape(1,no_of_timesteps)\n",
        "\n",
        "    prob  = model.predict(random_music)[0]\n",
        "    y_pred= np.argmax(prob,axis=0)\n",
        "    predictions.append(y_pred)\n",
        "\n",
        "    random_music = np.insert(random_music[0],len(random_music[0]),y_pred)\n",
        "    random_music = random_music[1:]\n",
        "    \n",
        "print(predictions)"
      ]
    },
    {
      "cell_type": "code",
      "execution_count": 40,
      "metadata": {
        "id": "Ve_fpXntb7J7"
      },
      "outputs": [],
      "source": [
        "x_int_to_note = dict((number, note_) for number, note_ in enumerate(unique_x)) \n",
        "predicted_notes = [x_int_to_note[i] for i in predictions]"
      ]
    },
    {
      "cell_type": "code",
      "execution_count": 41,
      "metadata": {
        "id": "w85mGQNIdKoV"
      },
      "outputs": [],
      "source": [
        "def convert_to_midi(prediction_output):\n",
        "   \n",
        "    offset = 0\n",
        "    output_notes = []\n",
        "\n",
        "    # create note and chord objects based on the values generated by the model\n",
        "    for pattern in prediction_output:\n",
        "        \n",
        "        # pattern is a chord\n",
        "        if ('.' in pattern) or pattern.isdigit():\n",
        "            notes_in_chord = pattern.split('.')\n",
        "            notes = []\n",
        "            for current_note in notes_in_chord:\n",
        "                \n",
        "                cn=int(current_note)\n",
        "                new_note = note.Note(cn)\n",
        "                new_note.storedInstrument = instrument.Piano()\n",
        "                notes.append(new_note)\n",
        "                \n",
        "            new_chord = chord.Chord(notes)\n",
        "            new_chord.offset = offset\n",
        "            output_notes.append(new_chord)\n",
        "            \n",
        "        # pattern is a note\n",
        "        else:\n",
        "            \n",
        "            new_note = note.Note(pattern)\n",
        "            new_note.offset = offset\n",
        "            new_note.storedInstrument = instrument.Piano()\n",
        "            output_notes.append(new_note)\n",
        "\n",
        "        # increase offset each iteration so that notes do not stack\n",
        "        offset += 1\n",
        "    midi_stream = stream.Stream(output_notes)\n",
        "    midi_stream.write('midi', fp='music.mid')"
      ]
    },
    {
      "cell_type": "code",
      "execution_count": 42,
      "metadata": {
        "id": "WSCKCN32dTup"
      },
      "outputs": [],
      "source": [
        "convert_to_midi(predicted_notes)"
      ]
    },
    {
      "cell_type": "code",
      "execution_count": null,
      "metadata": {
        "id": "T6uP3wYKdXC3"
      },
      "outputs": [],
      "source": []
    }
  ],
  "metadata": {
    "accelerator": "GPU",
    "colab": {
      "provenance": []
    },
    "gpuClass": "standard",
    "kernelspec": {
      "display_name": "Python 3",
      "name": "python3"
    },
    "language_info": {
      "name": "python"
    }
  },
  "nbformat": 4,
  "nbformat_minor": 0
}
